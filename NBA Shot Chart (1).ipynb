{
 "cells": [
  {
   "cell_type": "code",
   "execution_count": 1,
   "id": "ddc0c14a",
   "metadata": {},
   "outputs": [],
   "source": [
    "from nba_api.stats.static import players\n",
    "from nba_api.stats.endpoints import shotchartdetail\n",
    "from nba_api.stats.static import teams"
   ]
  },
  {
   "cell_type": "code",
   "execution_count": 2,
   "id": "74e43cd5",
   "metadata": {},
   "outputs": [],
   "source": [
    "import os\n",
    "import pandas as pd\n",
    "import requests\n",
    "import numpy as np\n",
    "import json"
   ]
  },
  {
   "cell_type": "markdown",
   "id": "84097611",
   "metadata": {},
   "source": [
    "### Player Info"
   ]
  },
  {
   "cell_type": "code",
   "execution_count": 5,
   "id": "b7e3f689",
   "metadata": {},
   "outputs": [],
   "source": [
    "# get all player ids\n",
    "player_dict = players.get_players()"
   ]
  },
  {
   "cell_type": "code",
   "execution_count": 50,
   "id": "f8bb4b70",
   "metadata": {},
   "outputs": [],
   "source": [
    "lebron = [player for player in player_dict if\n",
    "         player['full_name']== 'LeBron James']\n",
    "\n",
    "kd = [player for player in player_dict if\n",
    "         player['full_name']== 'Kevin Durant']\n",
    "\n",
    "curry = [player for player in player_dict if\n",
    "         player['full_name']== 'Stephen Curry']"
   ]
  },
  {
   "cell_type": "code",
   "execution_count": 51,
   "id": "0b6843d2",
   "metadata": {},
   "outputs": [],
   "source": [
    "lebron,kd,curry = lebron[0], kd[0], curry[0]"
   ]
  },
  {
   "cell_type": "code",
   "execution_count": 52,
   "id": "8bc2b353",
   "metadata": {},
   "outputs": [],
   "source": [
    "lebron_id, kd_id, curry_id = lebron['id'], kd['id'], curry['id']\n",
    "# id are unique to players across all seasons"
   ]
  },
  {
   "cell_type": "code",
   "execution_count": 9,
   "id": "1c858ff8",
   "metadata": {},
   "outputs": [],
   "source": [
    "teams_list = teams.get_teams()"
   ]
  },
  {
   "cell_type": "markdown",
   "id": "326cdcf6",
   "metadata": {},
   "source": [
    "what teams have they been on:\n",
    "\n",
    "lebron (cleveland, maimi, lakers)\n",
    "\n",
    "kd(okc, golden state, nets)\n",
    "\n",
    "steph(golden state)"
   ]
  },
  {
   "cell_type": "code",
   "execution_count": 43,
   "id": "710b1500",
   "metadata": {},
   "outputs": [],
   "source": [
    "gsw = [team for team in teams_list if\n",
    "               team['abbreviation']== 'GSW']"
   ]
  },
  {
   "cell_type": "code",
   "execution_count": 44,
   "id": "c3a1745c",
   "metadata": {},
   "outputs": [
    {
     "data": {
      "text/plain": [
       "[{'id': 1610612744,\n",
       "  'full_name': 'Golden State Warriors',\n",
       "  'abbreviation': 'GSW',\n",
       "  'nickname': 'Warriors',\n",
       "  'city': 'Golden State',\n",
       "  'state': 'California',\n",
       "  'year_founded': 1946}]"
      ]
     },
     "execution_count": 44,
     "metadata": {},
     "output_type": "execute_result"
    }
   ],
   "source": [
    "gsw"
   ]
  },
  {
   "cell_type": "code",
   "execution_count": 53,
   "id": "0443ae64",
   "metadata": {},
   "outputs": [],
   "source": [
    "okc = [team for team in teams_list if\n",
    "               team['abbreviation']== 'OKC']\n",
    "\n",
    "miami = [team for team in teams_list if\n",
    "               team['abbreviation']== 'MIA']\n",
    "\n",
    "cleveland = [team for team in teams_list if\n",
    "               team['abbreviation']== 'CLE']\n",
    "\n",
    "lakers = [team for team in teams_list if\n",
    "               team['abbreviation']== 'LAL']\n",
    "\n",
    "nets = [team for team in teams_list if\n",
    "               team['abbreviation']== 'BKN']\n"
   ]
  },
  {
   "cell_type": "code",
   "execution_count": 55,
   "id": "cd646466",
   "metadata": {},
   "outputs": [],
   "source": [
    "gsw,okc,miami,cleveland,lakers,nets = gsw[0],okc[0],miami[0],cleveland[0],lakers[0],nets[0] "
   ]
  },
  {
   "cell_type": "code",
   "execution_count": 56,
   "id": "125c003b",
   "metadata": {},
   "outputs": [],
   "source": [
    "gsw_id,okc_id,miami_id,cleveland_id,lakers_id,nets_id = gsw['id'],okc['id'],miami['id'],cleveland['id'],lakers['id'],nets['id']"
   ]
  },
  {
   "cell_type": "code",
   "execution_count": 17,
   "id": "65a8e8cf",
   "metadata": {},
   "outputs": [],
   "source": [
    "headers = ['GRID_TYPE','GAME_ID','GAME_EVENT_ID','PLAYER_ID','PLAYER_NAME',\n",
    " 'TEAM_ID','TEAM_NAME','PERIOD','MINUTES_REMAINING','SECONDS_REMAINING',\n",
    " 'EVENT_TYPE','ACTION_TYPE','SHOT_TYPE','SHOT_ZONE_BASIC','SHOT_ZONE_AREA',\n",
    " 'SHOT_ZONE_RANGE','SHOT_DISTANCE','LOC_X','LOC_Y',\n",
    " 'SHOT_ATTEMPTED_FLAG','SHOT_MADE_FLAG','GAME_DATE','HTM','VTM']"
   ]
  },
  {
   "cell_type": "code",
   "execution_count": 18,
   "id": "b2e46bba",
   "metadata": {},
   "outputs": [],
   "source": [
    "# for years lets do 2010-11 as the starting year, so we can\n",
    "# start with the first lebron year in miami\n",
    "# end with 2019-20"
   ]
  },
  {
   "cell_type": "code",
   "execution_count": 18,
   "id": "360a3b5b",
   "metadata": {},
   "outputs": [],
   "source": [
    "years = ['2010-11','2011-12','2012-13','2013-14','2014-15','2015-16',\n",
    "        '2016-17','2017-18','2018-19','2019-20']"
   ]
  },
  {
   "cell_type": "markdown",
   "id": "6558b789",
   "metadata": {},
   "source": [
    "### write functions for api access"
   ]
  },
  {
   "cell_type": "code",
   "execution_count": 22,
   "id": "f3068192",
   "metadata": {},
   "outputs": [],
   "source": [
    "new_json = shotchartdetail.ShotChartDetail(player_id = curry_id, \n",
    "                                             season_type_all_star = 'Regular Season',\n",
    "                                             context_measure_simple = 'FGA',\n",
    "                                             team_id = gsw_id,\n",
    "                                             season_nullable = '2010-11')"
   ]
  },
  {
   "cell_type": "code",
   "execution_count": 23,
   "id": "fae8dafa",
   "metadata": {},
   "outputs": [],
   "source": [
    "def add_data(input, frame):\n",
    "    # input = json, data wer're adding\n",
    "    # frame = pd.df, dataframe I'm adding to \n",
    "    data = json.loads(input.get_json())\n",
    "    rel_data = data['resultSets'][0]\n",
    "    rows = rel_data['rowSet']\n",
    "    headers = rel_data['headers']\n",
    "    temp_df = pd.DataFrame(rows)\n",
    "    temp_df.columns = headers\n",
    "    frame = pd.concat([frame,temp_df],axis=0)\n",
    "    return frame\n"
   ]
  },
  {
   "cell_type": "code",
   "execution_count": 24,
   "id": "0f61e60f",
   "metadata": {},
   "outputs": [],
   "source": [
    "def get_seasons(years,p_id,t_id,frame,season_type='Regular Season',context='FGA'):\n",
    "    # years = list of str, season we get data from\n",
    "    # p_id = int, id of player\n",
    "    # t_id = int, id of team\n",
    "    # season_type = str, regular post or allstar\n",
    "    # context = str, what kind of data\n",
    "    # frame = pd.df, dataframe to add info to\n",
    "    for year in years:\n",
    "        new_json = shotchartdetail.ShotChartDetail(player_id = p_id, \n",
    "                                             season_type_all_star = season_type,\n",
    "                                             context_measure_simple = context,\n",
    "                                             team_id = t_id,\n",
    "                                             season_nullable = year)\n",
    "        frame = add_data(new_json,frame)\n",
    "        \n",
    "    return frame\n",
    "    "
   ]
  },
  {
   "cell_type": "markdown",
   "id": "434befa0",
   "metadata": {},
   "source": [
    "### Get Curry Data"
   ]
  },
  {
   "cell_type": "code",
   "execution_count": 19,
   "id": "0bd6d0ae",
   "metadata": {},
   "outputs": [],
   "source": [
    "curry_years = years[:]"
   ]
  },
  {
   "cell_type": "code",
   "execution_count": 20,
   "id": "88e46e11",
   "metadata": {},
   "outputs": [],
   "source": [
    "curry_df = pd.DataFrame(columns = headers)"
   ]
  },
  {
   "cell_type": "code",
   "execution_count": 25,
   "id": "f821e984",
   "metadata": {},
   "outputs": [],
   "source": [
    "curry_df = get_seasons(curry_years,curry_id,gsw_id,curry_df)"
   ]
  },
  {
   "cell_type": "code",
   "execution_count": 74,
   "id": "56efd5be",
   "metadata": {},
   "outputs": [],
   "source": [
    "# curry_df.to_csv('C:\\\\Users\\\\kamka\\\\curry_data.csv')"
   ]
  },
  {
   "cell_type": "markdown",
   "id": "54d8c172",
   "metadata": {},
   "source": [
    "### Get Lebron Data"
   ]
  },
  {
   "cell_type": "code",
   "execution_count": 27,
   "id": "eeabd110",
   "metadata": {},
   "outputs": [],
   "source": [
    "lebron_years_miami = years[:4]\n",
    "lebron_years_cleveland = years[4:8]\n",
    "lebron_years_la = years[8:10]"
   ]
  },
  {
   "cell_type": "code",
   "execution_count": 29,
   "id": "d8489ac5",
   "metadata": {},
   "outputs": [],
   "source": [
    "lebron_df = pd.DataFrame(columns=headers)"
   ]
  },
  {
   "cell_type": "code",
   "execution_count": null,
   "id": "cc242a8e",
   "metadata": {},
   "outputs": [],
   "source": [
    "# need to access data in multiple steps because of free api restrictions"
   ]
  },
  {
   "cell_type": "code",
   "execution_count": 31,
   "id": "53a7c8ff",
   "metadata": {},
   "outputs": [],
   "source": [
    "# start with the miami years\n",
    "lebron_df = get_seasons(lebron_years_miami,lebron_id,miami_id,lebron_df)"
   ]
  },
  {
   "cell_type": "code",
   "execution_count": 54,
   "id": "7a3e3e72",
   "metadata": {},
   "outputs": [],
   "source": [
    "# then get second cleveland\n",
    "lebron_df = get_seasons(lebron_years_cleveland,lebron_id,cleveland_id,lebron_df)"
   ]
  },
  {
   "cell_type": "code",
   "execution_count": 58,
   "id": "6e272d07",
   "metadata": {},
   "outputs": [],
   "source": [
    "# end with lakers years\n",
    "lebron_df = get_seasons(lebron_years_la,lebron_id,lakers_id,lebron_df)"
   ]
  },
  {
   "cell_type": "code",
   "execution_count": 73,
   "id": "5a832449",
   "metadata": {},
   "outputs": [],
   "source": [
    "# lebron_df.to_csv('C:\\\\Users\\\\kamka\\\\lebron_data.csv')"
   ]
  },
  {
   "cell_type": "markdown",
   "id": "8858dec4",
   "metadata": {},
   "source": [
    "### Get KD Data"
   ]
  },
  {
   "cell_type": "code",
   "execution_count": 64,
   "id": "3c78fdd7",
   "metadata": {},
   "outputs": [],
   "source": [
    "kd_years_okc,kd_years_gsw,kd_years_nets = years[:6],years[6:9],years[9]"
   ]
  },
  {
   "cell_type": "code",
   "execution_count": 67,
   "id": "9e86c8c8",
   "metadata": {},
   "outputs": [],
   "source": [
    "kd_df = pd.DataFrame(columns=headers)"
   ]
  },
  {
   "cell_type": "code",
   "execution_count": 68,
   "id": "ec2d5930",
   "metadata": {},
   "outputs": [],
   "source": [
    "# okc years\n",
    "kd_df = get_seasons(kd_years_okc,kd_id,okc_id,kd_df)"
   ]
  },
  {
   "cell_type": "code",
   "execution_count": 69,
   "id": "01d0bb8e",
   "metadata": {},
   "outputs": [],
   "source": [
    "# gsw years\n",
    "kd_df = get_seasons(kd_years_gsw,kd_id,gsw_id,kd_df)"
   ]
  },
  {
   "cell_type": "markdown",
   "id": "a0cabd8a",
   "metadata": {},
   "source": [
    "KD didn't play in the 2019-2020 nba season for the nets."
   ]
  },
  {
   "cell_type": "code",
   "execution_count": 71,
   "id": "c313401e",
   "metadata": {},
   "outputs": [],
   "source": [
    "# kd_df.to_csv('C:\\\\Users\\\\kamka\\\\kd_data.csv')"
   ]
  }
 ],
 "metadata": {
  "kernelspec": {
   "display_name": "Python 3",
   "language": "python",
   "name": "python3"
  },
  "language_info": {
   "codemirror_mode": {
    "name": "ipython",
    "version": 3
   },
   "file_extension": ".py",
   "mimetype": "text/x-python",
   "name": "python",
   "nbconvert_exporter": "python",
   "pygments_lexer": "ipython3",
   "version": "3.9.3"
  }
 },
 "nbformat": 4,
 "nbformat_minor": 5
}
